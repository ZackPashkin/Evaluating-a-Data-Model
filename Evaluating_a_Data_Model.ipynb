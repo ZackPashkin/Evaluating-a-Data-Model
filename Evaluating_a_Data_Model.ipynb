{
  "nbformat": 4,
  "nbformat_minor": 0,
  "metadata": {
    "colab": {
      "name": "Evaluating a Data Model.ipynb",
      "version": "0.3.2",
      "provenance": [],
      "include_colab_link": true
    },
    "kernelspec": {
      "display_name": "Python 2",
      "language": "python",
      "name": "python2"
    }
  },
  "cells": [
    {
      "cell_type": "markdown",
      "metadata": {
        "id": "view-in-github",
        "colab_type": "text"
      },
      "source": [
        "[View in Colaboratory](https://colab.research.google.com/github/ZackPashkin/Evaluating-a-Data-Model/blob/master/Evaluating_a_Data_Model.ipynb)"
      ]
    },
    {
      "metadata": {
        "id": "WgawFI_Qgqtd",
        "colab_type": "code",
        "colab": {}
      },
      "cell_type": "code",
      "source": [
        "!pip install --upgrade google-cloud-bigquery"
      ],
      "execution_count": 0,
      "outputs": []
    },
    {
      "metadata": {
        "id": "SbsfkX30gqtg",
        "colab_type": "code",
        "colab": {}
      },
      "cell_type": "code",
      "source": [
        "import matplotlib.pyplot as plt\n",
        "from google.cloud import bigquery\n",
        "\n",
        "client = bigquery.Client()"
      ],
      "execution_count": 0,
      "outputs": []
    },
    {
      "metadata": {
        "id": "vHT4Y-Qigqti",
        "colab_type": "text"
      },
      "cell_type": "markdown",
      "source": [
        ""
      ]
    },
    {
      "metadata": {
        "id": "B1CCXpXsgqtj",
        "colab_type": "code",
        "colab": {}
      },
      "cell_type": "code",
      "source": [
        "depdelayquery3 = \"\"\"\n",
        "SELECT\n",
        "  *\n",
        "FROM (\n",
        "  SELECT\n",
        "    DEP_DELAY,\n",
        "    APPROX_QUANTILES(ARR_DELAY,\n",
        "      101)[OFFSET(70)] AS arrival_delay,\n",
        "    COUNT(ARR_DELAY) AS numflights\n",
        "  FROM\n",
        "    `flights.tzcorr` f\n",
        "  JOIN\n",
        "    `flights.trainday` t\n",
        "  ON\n",
        "    f.FL_DATE = t.FL_DATE\n",
        "  WHERE\n",
        "    t.is_train_day = 'True'\n",
        "  GROUP BY\n",
        "    DEP_DELAY )\n",
        "WHERE\n",
        "  numflights > 370\n",
        "ORDER BY\n",
        "  DEP_DELAY\n",
        "\"\"\""
      ],
      "execution_count": 0,
      "outputs": []
    },
    {
      "metadata": {
        "id": "zogtqRzvgqtl",
        "colab_type": "code",
        "colab": {},
        "outputId": "b7353432-575c-4998-f871-8ed40b60e4d8"
      },
      "cell_type": "code",
      "source": [
        "depdelay = client.query(depdelayquery3).to_dataframe()\n",
        "plt.axhline(y=15, color='r')\n",
        "ax = plt.axes()\n",
        "depdelay.plot(kind='line', x='DEP_DELAY', y='arrival_delay',\n",
        "              ax=ax, ylim=(0, 30), xlim=(0, 30), legend=False)\n",
        "ax.set_xlabel('Departure Delay (minutes)')\n",
        "ax.set_ylabel('> 30% likelihood of this Arrival Delay (minutes)');"
      ],
      "execution_count": 0,
      "outputs": [
        {
          "output_type": "stream",
          "text": [
            "/usr/local/envs/py2env/lib/python2.7/site-packages/matplotlib/cbook/deprecation.py:106: MatplotlibDeprecationWarning: Adding an axes using the same arguments as a previous axes currently reuses the earlier instance.  In a future version, a new instance will always be created and returned.  Meanwhile, this warning can be suppressed, and the future behavior ensured, by passing a unique label to each axes instance.\n",
            "  warnings.warn(message, mplDeprecation, stacklevel=1)\n",
            "/usr/local/envs/py2env/lib/python2.7/site-packages/matplotlib/font_manager.py:1320: UserWarning: findfont: Font family [u'sans-serif'] not found. Falling back to DejaVu Sans\n",
            "  (prop.get_family(), self.defaultFamily[fontext]))\n"
          ],
          "name": "stderr"
        },
        {
          "output_type": "display_data",
          "data": {
            "image/png": "[encoded data removed]",
            "text/plain": [
              "<matplotlib.figure.Figure at 0x7f9280bbad90>"
            ]
          },
          "metadata": {
            "tags": []
          }
        }
      ]
    },
    {
      "metadata": {
        "id": "c7y5td2kgqtp",
        "colab_type": "text"
      },
      "cell_type": "markdown",
      "source": [
        "create a query string that captures the contingency table that allows  to score the effectiveness of the model:"
      ]
    },
    {
      "metadata": {
        "id": "B2bt8LYGgqtp",
        "colab_type": "code",
        "colab": {},
        "outputId": "c7d09ce3-c737-4811-eb4f-ce361bc8c9c1"
      },
      "cell_type": "code",
      "source": [
        "evalquery = \"\"\"\n",
        "SELECT\n",
        "  SUM(IF(DEP_DELAY < 16\n",
        "      AND arr_delay < 15, 1, 0)) AS correct_nocancel,\n",
        "  SUM(IF(DEP_DELAY < 16\n",
        "      AND arr_delay >= 15, 1, 0)) AS wrong_nocancel,\n",
        "  SUM(IF(DEP_DELAY >= 16\n",
        "      AND arr_delay < 15, 1, 0)) AS wrong_cancel,\n",
        "  SUM(IF(DEP_DELAY >= 16\n",
        "      AND arr_delay >= 15, 1, 0)) AS correct_cancel\n",
        "FROM (\n",
        "  SELECT\n",
        "    DEP_DELAY,\n",
        "    ARR_DELAY\n",
        "  FROM\n",
        "    `flights.tzcorr` f\n",
        "  JOIN\n",
        "    `flights.trainday` t\n",
        "  ON\n",
        "    f.FL_DATE = t.FL_DATE\n",
        "  WHERE\n",
        "    t.is_train_day = 'False' )\n",
        "\"\"\"\n",
        "eval = client.query(evalquery).to_dataframe()\n",
        "eval"
      ],
      "execution_count": 0,
      "outputs": [
        {
          "output_type": "execute_result",
          "data": {
            "text/html": [
              "<div>\n",
              "<style scoped>\n",
              "    .dataframe tbody tr th:only-of-type {\n",
              "        vertical-align: middle;\n",
              "    }\n",
              "\n",
              "    .dataframe tbody tr th {\n",
              "        vertical-align: top;\n",
              "    }\n",
              "\n",
              "    .dataframe thead th {\n",
              "        text-align: right;\n",
              "    }\n",
              "</style>\n",
              "<table border=\"1\" class=\"dataframe\">\n",
              "  <thead>\n",
              "    <tr style=\"text-align: right;\">\n",
              "      <th></th>\n",
              "      <th>correct_nocancel</th>\n",
              "      <th>wrong_nocancel</th>\n",
              "      <th>wrong_cancel</th>\n",
              "      <th>correct_cancel</th>\n",
              "    </tr>\n",
              "  </thead>\n",
              "  <tbody>\n",
              "    <tr>\n",
              "      <th>0</th>\n",
              "      <td>1259740</td>\n",
              "      <td>66081</td>\n",
              "      <td>52827</td>\n",
              "      <td>217669</td>\n",
              "    </tr>\n",
              "  </tbody>\n",
              "</table>\n",
              "</div>"
            ],
            "text/plain": [
              "   correct_nocancel  wrong_nocancel  wrong_cancel  correct_cancel\n",
              "0           1259740           66081         52827          217669"
            ]
          },
          "metadata": {
            "tags": []
          },
          "execution_count": 14
        }
      ]
    },
    {
      "metadata": {
        "id": "7Yh6dRtAgqts",
        "colab_type": "code",
        "colab": {},
        "outputId": "000aee22-9c48-4088-d1d2-3f245efe3a0a"
      },
      "cell_type": "code",
      "source": [
        "print eval['correct_nocancel'] / (eval['correct_nocancel'] + \\\n",
        "eval['wrong_nocancel'])\n",
        "print eval['correct_cancel'] / (eval['correct_cancel'] + \\\n",
        "eval['wrong_cancel'])"
      ],
      "execution_count": 0,
      "outputs": [
        {
          "output_type": "stream",
          "text": [
            "0    0.950158\n",
            "dtype: float64\n",
            "0    0.804703\n",
            "dtype: float64\n"
          ],
          "name": "stdout"
        }
      ]
    },
    {
      "metadata": {
        "id": "AhtemiDhgqtv",
        "colab_type": "text"
      },
      "cell_type": "markdown",
      "source": [
        "re-evaluate the contingency table just for values at the decision boundary, i.e. only for flights where DEP_DELAY is 15 minutes, and flights are not cancelled or 16 minutes and flights are cancelled."
      ]
    },
    {
      "metadata": {
        "id": "n7zg4rCagqtw",
        "colab_type": "code",
        "colab": {},
        "outputId": "e8b78e41-0c7a-4ee2-ad7d-16967bf55396"
      },
      "cell_type": "code",
      "source": [
        "evalquery2=\"\"\"\n",
        "SELECT\n",
        "  SUM(IF(DEP_DELAY = 15\n",
        "      AND arr_delay < 15, 1, 0)) AS correct_nocancel,\n",
        "  SUM(IF(DEP_DELAY = 15\n",
        "      AND arr_delay >= 15, 1, 0)) AS wrong_nocancel,\n",
        "  SUM(IF(DEP_DELAY = 16\n",
        "      AND arr_delay < 15, 1, 0)) AS wrong_cancel,\n",
        "  SUM(IF(DEP_DELAY = 16\n",
        "      AND arr_delay >= 15, 1, 0)) AS correct_cancel\n",
        "FROM (\n",
        "  SELECT\n",
        "    DEP_DELAY,\n",
        "    ARR_DELAY\n",
        "  FROM\n",
        "    `flights.tzcorr` f\n",
        "  JOIN\n",
        "    `flights.trainday` t\n",
        "  ON\n",
        "    f.FL_DATE = t.FL_DATE\n",
        "  WHERE\n",
        "    t.is_train_day = 'False' )\n",
        "\"\"\"\n",
        "eval = client.query(evalquery2).to_dataframe()\n",
        "eval"
      ],
      "execution_count": 0,
      "outputs": [
        {
          "output_type": "execute_result",
          "data": {
            "text/html": [
              "<div>\n",
              "<style scoped>\n",
              "    .dataframe tbody tr th:only-of-type {\n",
              "        vertical-align: middle;\n",
              "    }\n",
              "\n",
              "    .dataframe tbody tr th {\n",
              "        vertical-align: top;\n",
              "    }\n",
              "\n",
              "    .dataframe thead th {\n",
              "        text-align: right;\n",
              "    }\n",
              "</style>\n",
              "<table border=\"1\" class=\"dataframe\">\n",
              "  <thead>\n",
              "    <tr style=\"text-align: right;\">\n",
              "      <th></th>\n",
              "      <th>correct_nocancel</th>\n",
              "      <th>wrong_nocancel</th>\n",
              "      <th>wrong_cancel</th>\n",
              "      <th>correct_cancel</th>\n",
              "    </tr>\n",
              "  </thead>\n",
              "  <tbody>\n",
              "    <tr>\n",
              "      <th>0</th>\n",
              "      <td>7684</td>\n",
              "      <td>2935</td>\n",
              "      <td>6787</td>\n",
              "      <td>2942</td>\n",
              "    </tr>\n",
              "  </tbody>\n",
              "</table>\n",
              "</div>"
            ],
            "text/plain": [
              "   correct_nocancel  wrong_nocancel  wrong_cancel  correct_cancel\n",
              "0              7684            2935          6787            2942"
            ]
          },
          "metadata": {
            "tags": []
          },
          "execution_count": 16
        }
      ]
    },
    {
      "metadata": {
        "id": "2fPihSR5gqtz",
        "colab_type": "text"
      },
      "cell_type": "markdown",
      "source": [
        "display the ratio of correct to incorrect calls.\n",
        "\n"
      ]
    },
    {
      "metadata": {
        "id": "swjgsa9dgqtz",
        "colab_type": "code",
        "colab": {},
        "outputId": "8cfac69f-5149-4c61-de3e-569b52dd4d45"
      },
      "cell_type": "code",
      "source": [
        "print eval['correct_nocancel'] / (eval['correct_nocancel'] + \\\n",
        "eval['wrong_nocancel'])\n",
        "print eval['correct_cancel'] / (eval['correct_cancel'] + \\\n",
        "eval['wrong_cancel'])"
      ],
      "execution_count": 0,
      "outputs": [
        {
          "output_type": "stream",
          "text": [
            "0    0.723609\n",
            "dtype: float64\n",
            "0    0.302395\n",
            "dtype: float64\n"
          ],
          "name": "stdout"
        }
      ]
    }
  ]
}