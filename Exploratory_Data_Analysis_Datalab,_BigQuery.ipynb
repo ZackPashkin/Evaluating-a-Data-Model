{
  "nbformat": 4,
  "nbformat_minor": 0,
  "metadata": {
    "colab": {
      "name": "Exploratory Data Analysis /Datalab, BigQuery.ipynb",
      "version": "0.3.2",
      "provenance": [],
      "include_colab_link": true
    },
    "kernelspec": {
      "display_name": "Python 2",
      "language": "python",
      "name": "python2"
    }
  },
  "cells": [
    {
      "cell_type": "markdown",
      "metadata": {
        "id": "view-in-github",
        "colab_type": "text"
      },
      "source": [
        "[View in Colaboratory](https://colab.research.google.com/github/ZackPashkin/Evaluating-a-Data-Model/blob/master/Exploratory_Data_Analysis_Datalab,_BigQuery.ipynb)"
      ]
    },
    {
      "metadata": {
        "id": "32FlfLo1h7eJ",
        "colab_type": "code",
        "colab": {}
      },
      "cell_type": "code",
      "source": [
        "!pip install --upgrade google-cloud-bigquery"
      ],
      "execution_count": 0,
      "outputs": []
    },
    {
      "metadata": {
        "id": "RWWNSN1Th7eM",
        "colab_type": "code",
        "colab": {}
      },
      "cell_type": "code",
      "source": [
        "import matplotlib.pyplot as plt\n",
        "import seaborn as sns\n",
        "from google.cloud import bigquery\n",
        "\n",
        "client = bigquery.Client()\n"
      ],
      "execution_count": 0,
      "outputs": []
    },
    {
      "metadata": {
        "id": "1qQma7WtmR3e",
        "colab_type": "text"
      },
      "cell_type": "markdown",
      "source": [
        "We'll use a random value in a BigQuery query to select about 1% of the dataset. We don't need to look at the whole dataset of 6 million records; a 1% sample is statistically significant enough for this analysis"
      ]
    },
    {
      "metadata": {
        "id": "Up8Gihazh7eP",
        "colab_type": "code",
        "colab": {}
      },
      "cell_type": "code",
      "source": [
        "sql = \"\"\"\n",
        "SELECT ARR_DELAY, DEP_DELAY\n",
        "FROM `flights.tzcorr`\n",
        "WHERE DEP_DELAY >= 10 AND RAND() < 0.01\n",
        "\"\"\"\n",
        "df = client.query(sql).to_dataframe()\n",
        "df.describe()\n"
      ],
      "execution_count": 0,
      "outputs": []
    },
    {
      "metadata": {
        "id": "MR5TwH_jmfcL",
        "colab_type": "text"
      },
      "cell_type": "markdown",
      "source": [
        " display a Seaborn violin chart that shows the distribution dataframe that contains the 1% sample of delay times for flights that departed 10 or more minutes late:"
      ]
    },
    {
      "metadata": {
        "id": "7bfXojvqh7eS",
        "colab_type": "code",
        "colab": {}
      },
      "cell_type": "code",
      "source": [
        "sns.set_style(\"whitegrid\")\n",
        "sns.set(font=\"DejaVu Sans\")\n",
        "ax = sns.violinplot(data=df, x='ARR_DELAY', inner='box', orient='h')"
      ],
      "execution_count": 0,
      "outputs": []
    },
    {
      "metadata": {
        "id": "K7rDFaD3m3LB",
        "colab_type": "text"
      },
      "cell_type": "markdown",
      "source": [
        "So now look at the difference between flights that depart more than 10 minutes late and those that depart less than 10 minutes late. We will add a calculated boolean variable called ‘ontime' that allows us to compare this distribution of the arrival time of flights that departed 10 or more minutes late with the distribution for flights that departed less than 10 minutes late."
      ]
    },
    {
      "metadata": {
        "id": "y4eJeg-Fh7eW",
        "colab_type": "code",
        "colab": {}
      },
      "cell_type": "code",
      "source": [
        "sql = \"\"\"\n",
        "SELECT ARR_DELAY, DEP_DELAY\n",
        "FROM `flights.tzcorr`\n",
        "WHERE RAND() < 0.001\n",
        "\"\"\"\n",
        "\n",
        "df = client.query(sql).to_dataframe()\n",
        "df['ontime'] = df['DEP_DELAY'] < 10\n",
        "ax = sns.violinplot(data=df, x='ARR_DELAY', y='ontime',\n",
        "                   inner='box', orient='h')\n",
        "ax.set_xlim(-50,200);\n"
      ],
      "execution_count": 0,
      "outputs": []
    },
    {
      "metadata": {
        "id": "wf_vBIwSnFHg",
        "colab_type": "text"
      },
      "cell_type": "markdown",
      "source": [
        "The top plot is clipped because Seaborn's default smoothing parameter is too coarse. In order to fix this we need to pass in a more appropriate gridsize parameter. Since we're interested in the data on the left side of this plot, we can narrow down the x axis limits."
      ]
    },
    {
      "metadata": {
        "id": "T3UQhEN2h7eY",
        "colab_type": "code",
        "colab": {}
      },
      "cell_type": "code",
      "source": [
        "sql = \"\"\"\n",
        "SELECT ARR_DELAY, DEP_DELAY\n",
        "FROM `flights.tzcorr`\n",
        "WHERE RAND() < 0.001\"\"\"\n",
        "\n",
        "df = client.query(sql).to_dataframe()\n",
        "df['ontime'] = df['DEP_DELAY'] < 10\n",
        "ax = sns.violinplot(data=df, x='ARR_DELAY', y='ontime',\n",
        "                   inner='box', orient='h',gridsize=1000)\n",
        "ax.set_xlim(-50,50);"
      ],
      "execution_count": 0,
      "outputs": []
    },
    {
      "metadata": {
        "id": "3nzgUUyOh7ea",
        "colab_type": "text"
      },
      "cell_type": "markdown",
      "source": [
        "This clearly shows that the 10 minute departure delay threshold definitely divides the dataset into two very different datasets, which is clearly shown by the box plots in the center of these two distributions. Flights that depart 10 or more minutes late are clearly asymmetrically distributed towards longer delay times. Flights that depart less than 10 minutes late are centered around the peak arrival time."
      ]
    },
    {
      "metadata": {
        "id": "GaWguyh_h7ec",
        "colab_type": "code",
        "colab": {}
      },
      "cell_type": "code",
      "source": [
        ""
      ],
      "execution_count": 0,
      "outputs": []
    },
    {
      "metadata": {
        "id": "sg6I6PrMh7ee",
        "colab_type": "text"
      },
      "cell_type": "markdown",
      "source": [
        "One approach to eliminating outliers from the dataset is to filter the dataset so that you only look at delay values within a particular range. For a dataset that has a few hundred thousand examples we can look at a range based on the standard deviation of the value we are interested in."
      ]
    },
    {
      "metadata": {
        "id": "bsokrdhWh7ef",
        "colab_type": "code",
        "colab": {}
      },
      "cell_type": "code",
      "source": [
        "sql = \"\"\"\n",
        "\n",
        "SELECT\n",
        "  AVG(DEP_DELAY) - 3*STDDEV(DEP_DELAY) AS filtermin,\n",
        "  AVG(DEP_DELAY) + 3*STDDEV(DEP_DELAY) AS filtermax\n",
        "FROM\n",
        "  `flights.tzcorr`\n",
        "\"\"\"\n",
        "df = client.query(sql).to_dataframe()\n",
        "df.describe()"
      ],
      "execution_count": 0,
      "outputs": []
    },
    {
      "metadata": {
        "id": "AjW1ekSYh7ei",
        "colab_type": "code",
        "colab": {}
      },
      "cell_type": "code",
      "source": [
        "depdelayquery = \"\"\"\n",
        "SELECT\n",
        "  DEP_DELAY,\n",
        "  arrival_delay,\n",
        "  stddev_arrival_delay,\n",
        "  numflights\n",
        "FROM (\n",
        "  SELECT\n",
        "    DEP_DELAY,\n",
        "    AVG(ARR_DELAY) AS arrival_delay,\n",
        "    STDDEV(ARR_DELAY) AS stddev_arrival_delay,\n",
        "    COUNT(ARR_DELAY) AS numflights\n",
        "  FROM\n",
        "    `flights.tzcorr`\n",
        "  GROUP BY\n",
        "    DEP_DELAY )\n",
        "WHERE\n",
        "  numflights > 370\n",
        "ORDER BY\n",
        "  DEP_DELAY\n",
        "\"\"\"\n",
        "depdelay = client.query(depdelayquery).to_dataframe()\n",
        "depdelay.head()"
      ],
      "execution_count": 0,
      "outputs": []
    },
    {
      "metadata": {
        "id": "cJSR5OTkh7ek",
        "colab_type": "text"
      },
      "cell_type": "markdown",
      "source": [
        "plot average arrival delay and the standard deviation for each delay:"
      ]
    },
    {
      "metadata": {
        "id": "qqOYKQ4Zh7el",
        "colab_type": "code",
        "colab": {}
      },
      "cell_type": "code",
      "source": [
        "ax = depdelay.plot(kind='line',\n",
        "                   x='DEP_DELAY',\n",
        "                   y='arrival_delay',\n",
        "                   yerr='stddev_arrival_delay');"
      ],
      "execution_count": 0,
      "outputs": []
    },
    {
      "metadata": {
        "id": "afuLYdHbh7ep",
        "colab_type": "text"
      },
      "cell_type": "markdown",
      "source": [
        "This demonstrates that there does appear to be a linear relationship between departure delay and arrival delay. It also shows that the standard deviation of the arrival delay for each departure delay is very uniform and close to 10 minutes over the whole range."
      ]
    },
    {
      "metadata": {
        "id": "ffGsNZBWh7eq",
        "colab_type": "text"
      },
      "cell_type": "markdown",
      "source": [
        "plot the intersection of the 15 minute delay line with the 30% arrival delay probability line."
      ]
    },
    {
      "metadata": {
        "id": "s8-9hT8oh7er",
        "colab_type": "code",
        "colab": {}
      },
      "cell_type": "code",
      "source": [
        "Z_30 = 0.52\n",
        "depdelay['arr_delay_30'] = (\n",
        "  (Z_30 * depdelay['stddev_arrival_delay'])\n",
        "  + depdelay['arrival_delay']\n",
        ")\n",
        "plt.axhline(y=15, color='r')\n",
        "ax = plt.axes()\n",
        "depdelay.plot(kind='line',\n",
        "              x='DEP_DELAY',\n",
        "              y='arr_delay_30',\n",
        "              ax=ax,\n",
        "              ylim=(0, 30),\n",
        "              xlim=(0, 30),\n",
        "              legend=False)\n",
        "ax.set_xlabel('Departure Delay (minutes)')\n",
        "ax.set_ylabel('> 30% likelihood of this Arrival Delay (minutes)');"
      ],
      "execution_count": 0,
      "outputs": []
    },
    {
      "metadata": {
        "id": "3MGxi3C8h7eu",
        "colab_type": "text"
      },
      "cell_type": "markdown",
      "source": [
        "The following query breaks up the arrival delays for each departure delay into 100 bins and then selects the arrival delay for the 70th bin as the appropriate value. The 70th bin contains the value that will occur 30% of the time. We then chart the results again to find the intersection of the 15 minute delay line with the 30% probability line we have now established empirically."
      ]
    },
    {
      "metadata": {
        "id": "jY6KxoUph7eu",
        "colab_type": "code",
        "colab": {}
      },
      "cell_type": "code",
      "source": [
        "depdelayquery2 = \"\"\"\n",
        "SELECT\n",
        "  DEP_DELAY,\n",
        "  APPROX_QUANTILES(ARR_DELAY, 101)[OFFSET(70)] AS arrival_delay,\n",
        "  COUNT(ARR_DELAY) AS numflights\n",
        "FROM\n",
        "  `flights.tzcorr`\n",
        "GROUP BY\n",
        "  DEP_DELAY\n",
        "HAVING\n",
        "  numflights > 370\n",
        "ORDER BY\n",
        "  DEP_DELAY\n",
        "\"\"\"\n",
        "depdelay = client.query(depdelayquery2).to_dataframe()\n",
        "plt.axhline(y=15, color='r')\n",
        "ax = plt.axes()\n",
        "depdelay.plot(kind='line',\n",
        "              x='DEP_DELAY',\n",
        "              y='arrival_delay',\n",
        "              ax=ax,\n",
        "              ylim=(0, 30),\n",
        "              xlim=(0, 30),\n",
        "              legend=False)\n",
        "ax.set_xlabel('Departure Delay (minutes)')\n",
        "ax.set_ylabel('> 30% likelihood of this Arrival Delay (minutes)');"
      ],
      "execution_count": 0,
      "outputs": []
    }
  ]
}